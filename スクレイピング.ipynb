{
 "cells": [
  {
   "cell_type": "markdown",
   "metadata": {},
   "source": [
    "# ライブラリインポート"
   ]
  },
  {
   "cell_type": "code",
   "execution_count": 1,
   "metadata": {},
   "outputs": [],
   "source": [
    "from pandas import Series, DataFrame\n",
    "import pandas as pd\n",
    "import os\n",
    "import requests\n",
    "from bs4 import BeautifulSoup \n",
    "import csv"
   ]
  },
  {
   "cell_type": "markdown",
   "metadata": {},
   "source": [
    "# 気候情報取得地域指定"
   ]
  },
  {
   "cell_type": "code",
   "execution_count": 2,
   "metadata": {},
   "outputs": [],
   "source": [
    "place_codeA = [14, 34, 51, 44, 46, 61, 67, 63, 82]\n",
    "place_codeB = [47412, 47590, 47636, 47662, 47670, 47759, 47765, 47770, 47807]\n",
    "place_name = [\"札幌\", \"仙台\", \"名古屋\",  \"東京\", \"横浜\",  \"京都\", \"広島\", \"神戸\", \"福岡\"]   "
   ]
  },
  {
   "cell_type": "markdown",
   "metadata": {},
   "source": [
    "# アウトプットファイルのパス指定"
   ]
  },
  {
   "cell_type": "code",
   "execution_count": 3,
   "metadata": {},
   "outputs": [],
   "source": [
    "os.chdir(\"C://Users/dsuzuki/Desktop\")"
   ]
  },
  {
   "cell_type": "markdown",
   "metadata": {},
   "source": [
    "# ベースとなるURL指定"
   ]
  },
  {
   "cell_type": "code",
   "execution_count": 4,
   "metadata": {},
   "outputs": [],
   "source": [
    "base_url = \"http://www.data.jma.go.jp/obd/stats/etrn/view/daily_s1.php?prec_no=%s&block_no=%s&year=%s&month=%s&day=1&view=p1\""
   ]
  },
  {
   "cell_type": "markdown",
   "metadata": {},
   "source": [
    "# 関数定義"
   ]
  },
  {
   "cell_type": "markdown",
   "metadata": {},
   "source": [
    "取得するデータを文字型から浮動小数点型に変換する関数を定義"
   ]
  },
  {
   "cell_type": "code",
   "execution_count": 5,
   "metadata": {},
   "outputs": [],
   "source": [
    "def str2float(str):\n",
    "    try:\n",
    "        return float(str)\n",
    "    except:\n",
    "        return 0.0"
   ]
  },
  {
   "cell_type": "code",
   "execution_count": 6,
   "metadata": {},
   "outputs": [
    {
     "data": {
      "text/plain": [
       "'11'"
      ]
     },
     "execution_count": 6,
     "metadata": {},
     "output_type": "execute_result"
    }
   ],
   "source": [
    "str(1)+str(1)"
   ]
  },
  {
   "cell_type": "code",
   "execution_count": 7,
   "metadata": {},
   "outputs": [
    {
     "data": {
      "text/plain": [
       "2"
      ]
     },
     "execution_count": 7,
     "metadata": {},
     "output_type": "execute_result"
    }
   ],
   "source": [
    "int(1)+int(1)"
   ]
  },
  {
   "cell_type": "code",
   "execution_count": 8,
   "metadata": {},
   "outputs": [
    {
     "data": {
      "text/plain": [
       "2.0"
      ]
     },
     "execution_count": 8,
     "metadata": {},
     "output_type": "execute_result"
    }
   ],
   "source": [
    "float(1)+float(1)"
   ]
  },
  {
   "cell_type": "markdown",
   "metadata": {},
   "source": [
    "# スクレイピング実行"
   ]
  },
  {
   "cell_type": "code",
   "execution_count": 6,
   "metadata": {},
   "outputs": [
    {
     "name": "stdout",
     "output_type": "stream",
     "text": [
      "札幌\n",
      "          0            1            2        3        4        5          6  \\\n",
      "0       年月日  陸の平均気圧(hPa)  海の平均気圧(hPa)  降水量(mm)  平均気温(℃)  平均湿度(%)  平均風速(m/s)   \n",
      "1  2018/1/1       1005.7         1009      9.5      0.4       87        2.9   \n",
      "2  2018/1/2       1002.7         1006        3      1.1       73        2.2   \n",
      "3  2018/1/3       1006.3       1009.6      3.5     -0.7       71        2.3   \n",
      "4  2018/1/4       1011.5       1014.8      4.5     -1.7       75          2   \n",
      "\n",
      "         7         8           9  \n",
      "0  日照時間(h)   天気概況(昼)     天気概況(夜)  \n",
      "1      0.3  雪後みぞれ時々雨  みぞれ時々曇後一時雪  \n",
      "2      2.5     雪後時々晴       曇後時々雪  \n",
      "3      0.9      曇時々雪        雪一時曇  \n",
      "4      0.1      雪時々曇        曇一時雪  \n",
      "仙台\n",
      "          0            1            2        3        4        5          6  \\\n",
      "0       年月日  陸の平均気圧(hPa)  海の平均気圧(hPa)  降水量(mm)  平均気温(℃)  平均湿度(%)  平均風速(m/s)   \n",
      "1  2018/1/1       1006.1       1011.5        0      4.4       63        3.7   \n",
      "2  2018/1/2       1007.5       1012.9        0        3       59        3.9   \n",
      "3  2018/1/3       1005.8       1011.3      1.5      0.5       78        3.9   \n",
      "4  2018/1/4       1011.9       1017.4        0      1.6       64        2.8   \n",
      "\n",
      "         7        8        9  \n",
      "0  日照時間(h)  天気概況(昼)  天気概況(夜)  \n",
      "1      7.7        晴   晴時々みぞれ  \n",
      "2      5.1        晴    曇後時々雪  \n",
      "3      3.8     雪時々晴     晴一時雪  \n",
      "4      7.8    晴後一時曇   晴後一時薄曇  \n",
      "名古屋\n",
      "          0            1            2        3        4        5          6  \\\n",
      "0       年月日  陸の平均気圧(hPa)  海の平均気圧(hPa)  降水量(mm)  平均気温(℃)  平均湿度(%)  平均風速(m/s)   \n",
      "1  2018/1/1         1011         1018        0      4.8       77        3.8   \n",
      "2  2018/1/2       1012.6       1019.6        0        5       70        3.8   \n",
      "3  2018/1/3         1012         1019        0      3.7       63          5   \n",
      "4  2018/1/4         1014         1021        0      3.1       59          3   \n",
      "\n",
      "         7        8        9  \n",
      "0  日照時間(h)  天気概況(昼)  天気概況(夜)  \n",
      "1      8.3        晴        晴  \n",
      "2      4.9      晴後曇     曇時々雨  \n",
      "3      9.3        晴       快晴  \n",
      "4      9.3        晴      晴後曇  \n",
      "東京\n",
      "          0            1            2        3        4        5          6  \\\n",
      "0       年月日  陸の平均気圧(hPa)  海の平均気圧(hPa)  降水量(mm)  平均気温(℃)  平均湿度(%)  平均風速(m/s)   \n",
      "1  2018/1/1       1009.7       1012.7        0      6.2       55        2.7   \n",
      "2  2018/1/2       1011.2       1014.2        0      6.1       42        3.2   \n",
      "3  2018/1/3       1010.3       1013.3        0      4.9       43        5.2   \n",
      "4  2018/1/4         1015         1018        0      4.7       41        2.8   \n",
      "\n",
      "         7        8        9  \n",
      "0  日照時間(h)  天気概況(昼)  天気概況(夜)  \n",
      "1      8.4        晴        晴  \n",
      "2      8.9       快晴        晴  \n",
      "3      8.9       快晴       快晴  \n",
      "4      8.8       快晴      晴後曇  \n",
      "横浜\n",
      "          0            1            2        3        4        5          6  \\\n",
      "0       年月日  陸の平均気圧(hPa)  海の平均気圧(hPa)  降水量(mm)  平均気温(℃)  平均湿度(%)  平均風速(m/s)   \n",
      "1  2018/1/1       1007.5       1012.7        0      6.5       57        2.8   \n",
      "2  2018/1/2       1008.8         1014        0      7.6       38        3.4   \n",
      "3  2018/1/3       1007.9       1013.2        0      5.7       39        5.5   \n",
      "4  2018/1/4       1012.5       1017.8        0      5.7       36        3.6   \n",
      "\n",
      "         7        8        9  \n",
      "0  日照時間(h)  天気概況(昼)  天気概況(夜)  \n",
      "1      8.5        晴       快晴  \n",
      "2      9.2        晴       快晴  \n",
      "3      9.6       快晴       快晴  \n",
      "4      8.7       快晴      晴後曇  \n",
      "京都\n",
      "          0            1            2        3        4        5          6  \\\n",
      "0       年月日  陸の平均気圧(hPa)  海の平均気圧(hPa)  降水量(mm)  平均気温(℃)  平均湿度(%)  平均風速(m/s)   \n",
      "1  2018/1/1       1013.3       1019.8        0      5.7       64        2.5   \n",
      "2  2018/1/2       1014.9       1021.4        0      6.3       59        2.5   \n",
      "3  2018/1/3       1014.9       1021.5      1.5      3.4       76        2.5   \n",
      "4  2018/1/4       1015.9       1022.6      0.5      2.7       79        1.5   \n",
      "\n",
      "         7          8        9  \n",
      "0  日照時間(h)    天気概況(昼)  天気概況(夜)  \n",
      "1      5.4          晴  曇時々雨一時晴  \n",
      "2      4.5       晴時々曇      曇後雨  \n",
      "3      4.8  晴時々みぞれ一時雨   晴一時みぞれ  \n",
      "4      4.2   晴一時雪後一時雨  曇時々晴一時雨  \n",
      "広島\n",
      "          0            1            2        3        4        5          6  \\\n",
      "0       年月日  陸の平均気圧(hPa)  海の平均気圧(hPa)  降水量(mm)  平均気温(℃)  平均湿度(%)  平均風速(m/s)   \n",
      "1  2018/1/1       1016.3         1023        0      5.4       51        2.5   \n",
      "2  2018/1/2       1017.9       1024.6        0      5.9       51        2.7   \n",
      "3  2018/1/3       1017.4       1024.1        0      6.4       50        4.3   \n",
      "4  2018/1/4       1016.8       1023.5        0      5.5       56        2.5   \n",
      "\n",
      "         7               8        9  \n",
      "0  日照時間(h)         天気概況(昼)  天気概況(夜)  \n",
      "1      4.1           晴後一時曇    晴後一時曇  \n",
      "2      8.7            晴一時曇     晴一時曇  \n",
      "3      5.9  晴時々曇一時雨、あられを伴う     曇一時晴  \n",
      "4      3.1            曇時々晴        曇  \n",
      "神戸\n",
      "          0            1            2        3        4        5          6  \\\n",
      "0       年月日  陸の平均気圧(hPa)  海の平均気圧(hPa)  降水量(mm)  平均気温(℃)  平均湿度(%)  平均風速(m/s)   \n",
      "1  2018/1/1       1016.7       1020.5        0      6.7       52        4.9   \n",
      "2  2018/1/2       1018.4       1022.2        0        7       52        4.1   \n",
      "3  2018/1/3       1018.2         1022        0        5       63        4.8   \n",
      "4  2018/1/4       1018.9       1022.7        0      4.9       62        2.7   \n",
      "\n",
      "         7        8         9  \n",
      "0  日照時間(h)  天気概況(昼)   天気概況(夜)  \n",
      "1      7.1        晴         晴  \n",
      "2        8        晴  晴後曇時々みぞれ  \n",
      "3      5.4   晴時々みぞれ        快晴  \n",
      "4      3.8   晴後曇一時雨         曇  \n",
      "福岡\n",
      "          0            1            2        3        4        5          6  \\\n",
      "0       年月日  陸の平均気圧(hPa)  海の平均気圧(hPa)  降水量(mm)  平均気温(℃)  平均湿度(%)  平均風速(m/s)   \n",
      "1  2018/1/1       1023.2       1025.1        0      6.4       53        3.6   \n",
      "2  2018/1/2       1024.8       1026.7        0      5.6       59        1.8   \n",
      "3  2018/1/3       1023.9       1025.8        0      7.6       49        3.9   \n",
      "4  2018/1/4       1021.8       1023.6        0      6.2       58        1.5   \n",
      "\n",
      "         7        8        9  \n",
      "0  日照時間(h)  天気概況(昼)  天気概況(夜)  \n",
      "1      1.3     晴時々曇        晴  \n",
      "2      8.5        晴     晴時々曇  \n",
      "3      7.4        晴      晴後曇  \n",
      "4      1.4        曇    曇後時々雨  \n"
     ]
    }
   ],
   "source": [
    "if __name__ == \"__main__\":\n",
    "  #都市を網羅します\n",
    "  for place in place_name:\n",
    "    #最終的にデータを集めるリスト (下に書いてある初期値は一行目。つまり、ヘッダー。)\n",
    "    All_list = [['年月日', '陸の平均気圧(hPa)', '海の平均気圧(hPa)', '降水量(mm)', '平均気温(℃)', '平均湿度(%)', '平均風速(m/s)', '日照時間(h)', '天気概況(昼)', '天気概況(夜)']]\n",
    "    print(place)\n",
    "    index = place_name.index(place)\n",
    "    # for文で2018年~2019年までの11回。\n",
    "    for year in range(2018,2020):\n",
    "        #print(year)\n",
    "        \n",
    "        for month in range(1,13):\n",
    "            r = requests.get(base_url%(place_codeA[index], place_codeB[index], year, month))\n",
    "            r.encoding = r.apparent_encoding\n",
    "\n",
    "        # 対象である表をスクレイピング。\n",
    "            soup = BeautifulSoup(r.text)\n",
    "            rows = soup.findAll('tr',class_='mtx') #タグ指定してclass名を指定するみたい。\n",
    "\n",
    "        # 表の最初の1~4行目はカラム情報なのでスライスする。(indexだから初めは0だよ)\n",
    "        # 【追記】2020/3/11 申し訳ございません。間違えてました。\n",
    "            rows = rows[4:]\n",
    "\n",
    "        # 1日〜最終日までの１行を網羅し、取得します。\n",
    "            for row in rows:\n",
    "                data = row.findAll('td')\n",
    "\n",
    "          #１行の中には様々なデータがあるので全部取り出す。\n",
    "          # ★ポイント\n",
    "                rowData = [] #初期化\n",
    "                rowData.append(str(year) + \"/\" + str(month) + \"/\" + str(data[0].string))\n",
    "                rowData.append(str2float(data[1].string))\n",
    "                rowData.append(str2float(data[2].string))\n",
    "                rowData.append(str2float(data[3].string))\n",
    "                rowData.append(str2float(data[6].string))\n",
    "                rowData.append(str2float(data[9].string))\n",
    "                rowData.append(str2float(data[11].string))\n",
    "                rowData.append(str2float(data[16].string))\n",
    "                rowData.append(data[19].string)\n",
    "                rowData.append(data[20].string)\n",
    "\n",
    "          #次の行にデータを追加\n",
    "                All_list.append(rowData)\n",
    "    #データフレーム化、表示            \n",
    "    df_alllist = pd.DataFrame(All_list)\n",
    "    print(df_alllist.head())\n",
    "    #都市ごとにデータをファイルを新しく生成して書き出す。(csvファイル形式。名前は都市名)\n",
    "    with open(place + '.csv', 'w') as file:\n",
    "        writer = csv.writer(file, lineterminator='\\n')\n",
    "        writer.writerows(All_list)"
   ]
  },
  {
   "cell_type": "code",
   "execution_count": null,
   "metadata": {},
   "outputs": [],
   "source": []
  }
 ],
 "metadata": {
  "kernelspec": {
   "display_name": "Python 3",
   "language": "python",
   "name": "python3"
  },
  "language_info": {
   "codemirror_mode": {
    "name": "ipython",
    "version": 3
   },
   "file_extension": ".py",
   "mimetype": "text/x-python",
   "name": "python",
   "nbconvert_exporter": "python",
   "pygments_lexer": "ipython3",
   "version": "3.7.6"
  }
 },
 "nbformat": 4,
 "nbformat_minor": 4
}
